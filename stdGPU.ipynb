{
  "nbformat": 4,
  "nbformat_minor": 0,
  "metadata": {
    "accelerator": "GPU",
    "colab": {
      "name": "stdGPU.ipynb",
      "provenance": [],
      "collapsed_sections": []
    },
    "kernelspec": {
      "display_name": "Python 3",
      "name": "python3"
    },
    "language_info": {
      "name": "python"
    }
  },
  "cells": [
    {
      "cell_type": "code",
      "metadata": {
        "colab": {
          "base_uri": "https://localhost:8080/"
        },
        "id": "OMAze2Hp239U",
        "outputId": "b4d27dcc-e8e3-48b9-e48d-2c137e3f79d8"
      },
      "source": [
        "!nvidia-smi"
      ],
      "execution_count": null,
      "outputs": [
        {
          "name": "stdout",
          "output_type": "stream",
          "text": [
            "Tue Sep 14 15:01:46 2021       \n",
            "+-----------------------------------------------------------------------------+\n",
            "| NVIDIA-SMI 470.63.01    Driver Version: 460.32.03    CUDA Version: 11.2     |\n",
            "|-------------------------------+----------------------+----------------------+\n",
            "| GPU  Name        Persistence-M| Bus-Id        Disp.A | Volatile Uncorr. ECC |\n",
            "| Fan  Temp  Perf  Pwr:Usage/Cap|         Memory-Usage | GPU-Util  Compute M. |\n",
            "|                               |                      |               MIG M. |\n",
            "|===============================+======================+======================|\n",
            "|   0  Tesla T4            Off  | 00000000:00:04.0 Off |                    0 |\n",
            "| N/A   40C    P8     9W /  70W |      0MiB / 15109MiB |      0%      Default |\n",
            "|                               |                      |                  N/A |\n",
            "+-------------------------------+----------------------+----------------------+\n",
            "                                                                               \n",
            "+-----------------------------------------------------------------------------+\n",
            "| Processes:                                                                  |\n",
            "|  GPU   GI   CI        PID   Type   Process name                  GPU Memory |\n",
            "|        ID   ID                                                   Usage      |\n",
            "|=============================================================================|\n",
            "|  No running processes found                                                 |\n",
            "+-----------------------------------------------------------------------------+\n"
          ]
        }
      ]
    },
    {
      "cell_type": "code",
      "metadata": {
        "colab": {
          "base_uri": "https://localhost:8080/"
        },
        "id": "jtgffvkG3as0",
        "outputId": "3ebe55e3-1849-42e9-bbf9-b95e6dfd0228"
      },
      "source": [
        "! pip install VSColab"
      ],
      "execution_count": null,
      "outputs": [
        {
          "name": "stdout",
          "output_type": "stream",
          "text": [
            "Collecting VSColab\n",
            "  Downloading VSColab-0.1.4-py3-none-any.whl (3.9 kB)\n",
            "Installing collected packages: VSColab\n",
            "Successfully installed VSColab-0.1.4\n"
          ]
        }
      ]
    },
    {
      "cell_type": "code",
      "metadata": {
        "id": "shtpdNKO3crD"
      },
      "source": [
        "from VSColab import Connect, GetSSH, Kill, VSConfig"
      ],
      "execution_count": null,
      "outputs": []
    },
    {
      "cell_type": "code",
      "metadata": {
        "colab": {
          "base_uri": "https://localhost:8080/"
        },
        "id": "3i35FuPV3nVb",
        "outputId": "50377610-6f47-46f5-87b3-688dda7aa6e8"
      },
      "source": [
        "Connect('z')"
      ],
      "execution_count": null,
      "outputs": [
        {
          "name": "stdout",
          "output_type": "stream",
          "text": [
            "username: root\n",
            "password:  z\n",
            "Get your authtoken from https://dashboard.ngrok.com/auth\n",
            "··········\n"
          ]
        }
      ]
    },
    {
      "cell_type": "code",
      "metadata": {
        "colab": {
          "base_uri": "https://localhost:8080/"
        },
        "id": "XxLzFsIH3pvy",
        "outputId": "7683a865-dd0e-4c2d-c996-b849a56fe13e"
      },
      "source": [
        "GetSSH()"
      ],
      "execution_count": null,
      "outputs": [
        {
          "name": "stdout",
          "output_type": "stream",
          "text": [
            "Tunnel URL: \n",
            "tcp://4.tcp.ngrok.io:12765\n",
            "SSH Command: \n",
            "ssh root@4.tcp.ngrok.io -p 12765\n"
          ]
        }
      ]
    },
    {
      "cell_type": "code",
      "metadata": {
        "colab": {
          "background_save": true,
          "base_uri": "https://localhost:8080/"
        },
        "id": "Z9oLnHlA4vRz",
        "outputId": "75721b0a-8fec-4942-90ec-3fac8b4d8ef6"
      },
      "source": [
        "! watch -d -n 100 nvidia-smi"
      ],
      "execution_count": null,
      "outputs": [
        {
          "name": "stdout",
          "output_type": "stream",
          "text": [
            "\u001b)0\u001b7\u001b[?47h\u001b[1;24r\u001b[m\u001b[4l\u001b[H\u001b[2JEvery 100.0s: nvidia-smi\u001b[1;43H8e9705c84f0f: Tue Sep 14 15:02:43 2021\u001b[3;1HTue Sep 14 15:02:43 2021\r\u001b[1B+-----------------------------------------------------------------------------+\r\u001b[1B| NVIDIA-SMI 470.63.01    Driver Version: 460.32.03    CUDA Version: 11.2     |\r\u001b[1B|-------------------------------+----------------------+----------------------+\r\u001b[1B| GPU  Name\u001b[7;20HPersistence-M| Bus-Id\u001b[7;49HDisp.A | Volatile Uncorr. ECC |\r\u001b[1B| Fan  Temp  Perf  Pwr:Usage/Cap|\u001b[8;43HMemory-Usage | GPU-Util  Compute M. |\r\u001b[1B|\u001b[9;33H|\u001b[9;56H|\u001b[9;72HMIG M. |\r\u001b[1B|===============================+======================+======================|\r\u001b[1B|   0  Tesla T4\u001b[11;28HOff  | 00000000:00:04.0 Off |\u001b[20C0 |\r\u001b[1B| N/A   38C    P8     9W /  70W |\u001b[6C0MiB / 15109MiB |\u001b[6C0%\u001b[6CDefault |\r\u001b[1B|\u001b[13;33H|\u001b[13;56H|\u001b[18CN/A |\r\u001b[1B+-------------------------------+----------------------+----------------------+\r\u001b[2B+-----------------------------------------------------------------------------+\r\u001b[1B| Processes:\u001b[66C|\r\u001b[1B|  GPU   GI   CI\u001b[18;25HPID   Type   Process name\u001b[18;68HGPU Memory |\r\u001b[1B|\u001b[19;10HID   ID\u001b[19;68HUsage\u001b[6C|\r\u001b[1B|=============================================================================|\r\u001b[1B|  No running processes found\u001b[49C|\r\u001b[1B+-----------------------------------------------------------------------------+\u001b[2B\u001b[1;72H4:2\u001b[3;16H\u001b[7m4\u001b[m:\u001b[7m2\u001b[12;9H54\u001b[6C0\u001b[m    \u001b[7m70\u001b[12;37H4879\u001b[12;61H10\u001b[24;80H\u001b[m\u001b[1;72H6:0\u001b[3;16H\u001b[7m6\u001b[m:\u001b[7m04\u001b[12;9H73\u001b[6C\u001b[m0    7\u001b[7m1\u001b[12;37H\u001b[m4879\u001b[12;61H10\u001b[24;80H\u001b[1;72H7:44\u001b[3;16H\u001b[7m7\u001b[m:\u001b[7m4\u001b[m4\u001b[12;9H7\u001b[7m5\u001b[12;23H\u001b[m1\u001b[24;80H\u001b[1;72H9:2\u001b[3;16H\u001b[7m9\u001b[m:\u001b[7m2\u001b[12;10H8\u001b[12;23H2\u001b[24;80H\u001b[m\u001b[1;71H11:0\u001b[3;15H\u001b[7m11\u001b[m:\u001b[7m0\u001b[12;10H7\u001b[12;22H61\u001b[24;80H\u001b[m\u001b[1;72H2:4\u001b[3;15H1\u001b[7m2\u001b[m:\u001b[7m4\u001b[12;10H\u001b[m7\u001b[12;22H\u001b[7m70\u001b[24;80H\u001b[m\u001b[1;72H4:2\u001b[3;16H\u001b[7m4\u001b[m:\u001b[7m2\u001b[12;22H\u001b[m7\u001b[7m2\u001b[24;80H\u001b[m\u001b[1;72H6:0\u001b[3;16H\u001b[7m6\u001b[m:\u001b[7m0\u001b[12;22H66\u001b[24;80H\u001b[m\u001b[1;72H7:45\u001b[3;16H\u001b[7m7\u001b[m:\u001b[7m45\u001b[12;22H59\u001b[24;80H\u001b[m\u001b[1;72H9:2\u001b[3;16H\u001b[7m9\u001b[m:\u001b[7m2\u001b[m5\u001b[12;22H\u001b[7m66\u001b[24;80H\u001b[m\u001b[1;71H21:0\u001b[3;15H\u001b[7m21\u001b[m:\u001b[7m0\u001b[12;22H\u001b[m6\u001b[7m1\u001b[24;80H\u001b[m\u001b[1;72H2:4\u001b[3;15H2\u001b[7m2\u001b[m:\u001b[7m4\u001b[12;22H7\u001b[m1\u001b[24;80H\u001b[1;72H4:2\u001b[3;16H\u001b[7m4\u001b[m:\u001b[7m2\u001b[12;22H62\u001b[24;80H\u001b[m\u001b[1;72H6:0\u001b[3;16H\u001b[7m6\u001b[m:\u001b[7m0\u001b[12;22H71\u001b[24;80H\u001b[m\u001b[1;72H7:4\u001b[3;16H\u001b[7m7\u001b[m:\u001b[7m4\u001b[12;22H\u001b[m71\u001b[24;80H\u001b[1;72H9:2\u001b[3;16H\u001b[7m9\u001b[m:\u001b[7m2\u001b[12;23H2\u001b[24;80H\u001b[m\u001b[1;71H31:06\u001b[3;15H\u001b[7m31\u001b[m:\u001b[7m06\u001b[12;23H\u001b[m2\u001b[24;80H\u001b[1;72H2:4\u001b[3;15H3\u001b[7m2\u001b[m:\u001b[7m4\u001b[m6\u001b[12;23H\u001b[7m1\u001b[24;80H\u001b[m\u001b[1;72H4:2\u001b[3;16H\u001b[7m4\u001b[m:\u001b[7m2\u001b[12;23H2\u001b[24;80H\u001b[m\u001b[1;72H6:0\u001b[3;16H\u001b[7m6\u001b[m:\u001b[7m0\u001b[12;22H59\u001b[24;80H\u001b[m\u001b[1;72H7:4\u001b[3;16H\u001b[7m7\u001b[m:\u001b[7m4\u001b[12;22H72\u001b[24;80H\u001b[m\u001b[1;72H9:2\u001b[3;16H\u001b[7m9\u001b[m:\u001b[7m2\u001b[12;22H\u001b[m7\u001b[7m1\u001b[24;80H\u001b[m\u001b[1;71H41:0\u001b[3;15H\u001b[7m41\u001b[m:\u001b[7m0\u001b[12;23H\u001b[m1\u001b[24;80H\u001b[1;72H2:4\u001b[3;15H4\u001b[7m2\u001b[m:\u001b[7m47\u001b[24;80H\u001b[m\u001b[1;72H4:27\u001b[3;16H\u001b[7m4\u001b[m:\u001b[7m2\u001b[m7\u001b[24;80H\u001b[1;72H6:0\u001b[3;16H\u001b[7m6\u001b[m:\u001b[7m0\u001b[24;80H\u001b[m\u001b[1;72H7:4\u001b[3;16H\u001b[7m7\u001b[m:\u001b[7m4\u001b[24;80H\u001b[m\u001b[1;72H9:2\u001b[3;16H\u001b[7m9\u001b[m:\u001b[7m2\u001b[12;22H60\u001b[24;80H\u001b[m\u001b[1;71H51:0\u001b[3;15H\u001b[7m51\u001b[m:\u001b[7m0\u001b[12;22H71\u001b[24;80H\u001b[m\u001b[1;72H2:4\u001b[3;15H5\u001b[7m2\u001b[m:\u001b[7m48\u001b[12;22H\u001b[m7\u001b[7m2\u001b[24;80H\u001b[m\u001b[1;72H4:28\u001b[3;16H\u001b[7m4\u001b[m:\u001b[7m2\u001b[m8\u001b[12;23H2\u001b[24;80H\u001b[1;72H6:0\u001b[3;16H\u001b[7m6\u001b[m:\u001b[7m0\u001b[12;22H60\u001b[24;80H\u001b[m\u001b[1;72H7:4\u001b[3;16H\u001b[7m7\u001b[m:\u001b[7m4\u001b[12;22H71\u001b[24;80H\u001b[m\u001b[1;72H9:2\u001b[3;16H\u001b[7m9\u001b[m:\u001b[7m2\u001b[12;22H59\u001b[24;80H\u001b[m\u001b[1;69H6:01:0\u001b[3;13H\u001b[7m6\u001b[m:\u001b[7m01\u001b[m:\u001b[7m0\u001b[12;22H71\u001b[24;80H\u001b[m\u001b[1;72H2:4\u001b[3;13H6:0\u001b[7m2\u001b[m:\u001b[7m4\u001b[12;22H\u001b[m71\u001b[24;80H\u001b[1;72H4:2\u001b[3;16H\u001b[7m4\u001b[m:\u001b[7m2\u001b[12;23H2\u001b[24;80H\u001b[m\u001b[1;72H6:09\u001b[3;16H\u001b[7m6\u001b[m:\u001b[7m09\u001b[12;22H59\u001b[24;80H\u001b[m\u001b[1;72H7:4\u001b[3;16H\u001b[7m7\u001b[m:\u001b[7m4\u001b[m9\u001b[12;22H\u001b[7m70\u001b[24;80H\u001b[m\u001b[1;72H9:2\u001b[3;16H\u001b[7m9\u001b[m:\u001b[7m2\u001b[12;22H\u001b[m7\u001b[7m2\u001b[24;80H\u001b[m\u001b[1;71H11:0\u001b[3;15H\u001b[7m11\u001b[m:\u001b[7m0\u001b[12;23H0\u001b[24;80H\u001b[m\u001b[1;72H2:4\u001b[3;15H1\u001b[7m2\u001b[m:\u001b[7m4\u001b[12;22H59\u001b[24;80H\u001b[m\u001b[1;72H4:2\u001b[3;16H\u001b[7m4\u001b[m:\u001b[7m2\u001b[12;22H72\u001b[24;80H\u001b[m\u001b[1;72H6:0\u001b[3;16H\u001b[7m6\u001b[m:\u001b[7m10\u001b[12;22H\u001b[m72\u001b[24;80H\u001b[1;72H7:50\u001b[3;16H\u001b[7m7\u001b[m:\u001b[7m5\u001b[m0\u001b[12;22H\u001b[7m65\u001b[24;80H\u001b[m\u001b[1;72H9:3\u001b[3;16H\u001b[7m9\u001b[m:\u001b[7m3\u001b[12;22H72\u001b[24;80H\u001b[m\u001b[1;71H21:1\u001b[3;15H\u001b[7m21\u001b[m:\u001b[7m1\u001b[12;22H\u001b[m7\u001b[7m1\u001b[24;80H\u001b[m\u001b[1;72H2:5\u001b[3;15H2\u001b[7m2\u001b[m:\u001b[7m5\u001b[12;23H\u001b[m1\u001b[24;80H\u001b[1;72H4:3\u001b[3;16H\u001b[7m4\u001b[m:\u001b[7m3\u001b[24;80H\u001b[m\u001b[1;72H6:1\u001b[3;16H\u001b[7m6\u001b[m:\u001b[7m1\u001b[12;22H6\u001b[24;80H\u001b[m\u001b[1;72H7:51\u001b[3;16H\u001b[7m7\u001b[m:\u001b[7m51\u001b[12;22H59\u001b[24;80H\u001b[m\u001b[1;72H9:3\u001b[3;16H\u001b[7m9\u001b[m:\u001b[7m3\u001b[m1\u001b[12;22H\u001b[7m61\u001b[24;80H\u001b[m\u001b[1;71H31:1\u001b[3;15H\u001b[7m31\u001b[m:\u001b[7m1\u001b[12;22H7\u001b[m1\u001b[24;80H\u001b[1;72H2:5\u001b[3;15H3\u001b[7m2\u001b[m:\u001b[7m5\u001b[12;22H\u001b[m7\u001b[7m0\u001b[24;80H\u001b[m\u001b[1;72H4:3\u001b[3;16H\u001b[7m4\u001b[m:\u001b[7m3\u001b[12;22H66\u001b[24;80H\u001b[m\u001b[1;72H6:1\u001b[3;16H\u001b[7m6\u001b[m:\u001b[7m1\u001b[12;22H\u001b[m6\u001b[7m1\u001b[24;80H\u001b[m\u001b[1;72H7:52\u001b[3;16H\u001b[7m7\u001b[m:\u001b[7m52\u001b[12;22H7\u001b[m1\u001b[24;80H\u001b[1;72H9:3\u001b[3;16H\u001b[7m9\u001b[m:\u001b[7m3\u001b[m2\u001b[12;22H7\u001b[7m0\u001b[24;80H\u001b[m\u001b[1;71H41:1\u001b[3;15H\u001b[7m41\u001b[m:\u001b[7m1\u001b[12;23H2\u001b[24;80H\u001b[m\u001b[1;72H2:5\u001b[3;15H4\u001b[7m2\u001b[m:\u001b[7m5\u001b[12;23H1\u001b[24;80H\u001b[m\u001b[1;72H4:3\u001b[3;16H\u001b[7m4\u001b[m:\u001b[7m3\u001b[12;22H63\u001b[24;80H\u001b[m\u001b[1;72H6:1\u001b[3;16H\u001b[7m6\u001b[m:\u001b[7m1\u001b[12;22H\u001b[m63\u001b[24;80H\u001b[1;72H7:53\u001b[3;16H\u001b[7m7\u001b[m:\u001b[7m53\u001b[12;22H71\u001b[24;80H\u001b[m\u001b[1;72H9:3\u001b[3;16H\u001b[7m9\u001b[m:\u001b[7m3\u001b[m3\u001b[12;22H7\u001b[7m2\u001b[24;80H\u001b[m\u001b[1;71H51:1\u001b[3;15H\u001b[7m51\u001b[m:\u001b[7m1\u001b[12;23H\u001b[m2\u001b[24;80H\u001b[1;72H2:5\u001b[3;15H5\u001b[7m2\u001b[m:\u001b[7m5\u001b[12;23H0\u001b[24;80H\u001b[m\u001b[1;72H4:3\u001b[3;16H\u001b[7m4\u001b[m:\u001b[7m3\u001b[12;23H1\u001b[24;80H\u001b[m\u001b[1;72H6:1\u001b[3;16H\u001b[7m6\u001b[m:\u001b[7m1\u001b[12;23H\u001b[m1\u001b[24;80H\u001b[1;72H7:5\u001b[3;16H\u001b[7m7\u001b[m:\u001b[7m5\u001b[12;22H59\u001b[24;80H\u001b[m\u001b[1;72H9:3\u001b[3;16H\u001b[7m9\u001b[m:\u001b[7m34\u001b[12;22H72\u001b[24;80H\u001b[m\u001b[1;69H7:01:14\u001b[3;13H\u001b[7m7\u001b[m:\u001b[7m01\u001b[m:\u001b[7m1\u001b[m4\u001b[12;22H7\u001b[7m1\u001b[24;80H\u001b[m\u001b[1;72H2:5\u001b[3;13H7:0\u001b[7m2\u001b[m:\u001b[7m5\u001b[12;23H\u001b[m1\u001b[24;80H\u001b[1;72H4:3\u001b[3;16H\u001b[7m4\u001b[m:\u001b[7m3\u001b[24;80H\u001b[m\u001b[1;72H6:1\u001b[3;16H\u001b[7m6\u001b[m:\u001b[7m1\u001b[12;23H2\u001b[24;80H\u001b[m\u001b[1;72H7:5\u001b[3;16H\u001b[7m7\u001b[m:\u001b[7m5\u001b[12;22H6\u001b[m2\u001b[24;80H\u001b[1;72H9:3\u001b[3;16H\u001b[7m9\u001b[m:\u001b[7m3\u001b[12;22H70\u001b[24;80H\u001b[m\u001b[1;71H11:1\u001b[3;15H\u001b[7m11\u001b[m:\u001b[7m15\u001b[12;22H\u001b[m7\u001b[7m1\u001b[24;80H\u001b[m\u001b[1;72H2:55\u001b[3;15H1\u001b[7m2\u001b[m:\u001b[7m5\u001b[m5\u001b[12;23H\u001b[7m2\u001b[24;80H\u001b[m\u001b[1;72H4:3\u001b[3;16H\u001b[7m4\u001b[m:\u001b[7m3\u001b[12;23H1\u001b[24;80H\u001b[m\u001b[1;72H6:1\u001b[3;16H\u001b[7m6\u001b[m:\u001b[7m1\u001b[12;23H2\u001b[24;80H\u001b[m\u001b[1;72H7:5\u001b[3;16H\u001b[7m7\u001b[m:\u001b[7m5\u001b[12;22H59\u001b[24;80H\u001b[m\u001b[1;72H9:3\u001b[3;16H\u001b[7m9\u001b[m:\u001b[7m3\u001b[12;22H72\u001b[24;80H\u001b[m\u001b[1;71H21:16\u001b[3;15H\u001b[7m21\u001b[m:\u001b[7m16\u001b[12;22H69\u001b[24;80H\u001b[m\u001b[1;72H2:5\u001b[3;15H2\u001b[7m2\u001b[m:\u001b[7m5\u001b[m6\u001b[12;22H\u001b[7m71\u001b[24;80H\u001b[m\u001b[1;72H4:3\u001b[3;16H\u001b[7m4\u001b[m:\u001b[7m3\u001b[12;22H69\u001b[24;80H\u001b[m\u001b[1;72H6:1\u001b[3;16H\u001b[7m6\u001b[m:\u001b[7m1\u001b[12;22H71\u001b[24;80H\u001b[m\u001b[1;72H7:5\u001b[3;16H\u001b[7m7\u001b[m:\u001b[7m5\u001b[12;22H69\u001b[24;80H\u001b[m\u001b[1;72H9:3\u001b[3;16H\u001b[7m9\u001b[m:\u001b[7m3\u001b[12;22H72\u001b[24;80H\u001b[m\u001b[1;71H31:1\u001b[3;15H\u001b[7m31\u001b[m:\u001b[7m1\u001b[12;22H61\u001b[24;80H\u001b[m\u001b[1;72H2:5\u001b[3;15H3\u001b[7m2\u001b[m:\u001b[7m5\u001b[12;22H7\u001b[m1\u001b[24;80H\u001b[1;72H4:37\u001b[3;16H\u001b[7m4\u001b[m:\u001b[7m37\u001b[12;22H\u001b[m7\u001b[7m0\u001b[24;80H\u001b[m\u001b[1;72H6:1\u001b[3;16H\u001b[7m6\u001b[m:\u001b[7m1\u001b[m7\u001b[12;23H\u001b[7m1\u001b[24;80H\u001b[m\u001b[1;72H7:5\u001b[3;16H\u001b[7m7\u001b[m:\u001b[7m5\u001b[12;22H68\u001b[24;80H\u001b[m\u001b[1;72H9:3\u001b[3;16H\u001b[7m9\u001b[m:\u001b[7m3\u001b[12;22H\u001b[m6\u001b[7m3\u001b[24;80H\u001b[m\u001b[1;71H41:1\u001b[3;15H\u001b[7m41\u001b[m:\u001b[7m1\u001b[12;22H71\u001b[24;80H\u001b[m\u001b[1;72H2:5\u001b[3;15H4\u001b[7m2\u001b[m:\u001b[7m5\u001b[12;22H\u001b[m7\u001b[7m2\u001b[24;80H\u001b[m\u001b[1;72H4:38\u001b[3;16H\u001b[7m4\u001b[m:\u001b[7m38\u001b[12;23H\u001b[m2\u001b[24;80H\u001b[1;72H6:1\u001b[3;16H\u001b[7m6\u001b[m:\u001b[7m1\u001b[m8\u001b[12;23H\u001b[7m1\u001b[24;80H\u001b[m\u001b[1;72H7:5\u001b[3;16H\u001b[7m7\u001b[m:\u001b[7m5\u001b[12;23H0\u001b[24;80H\u001b[m\u001b[1;72H9:3\u001b[3;16H\u001b[7m9\u001b[m:\u001b[7m3\u001b[12;23H1\u001b[24;80H\u001b[m\u001b[1;71H51:1\u001b[3;15H\u001b[7m51\u001b[m:\u001b[7m1\u001b[12;22H68\u001b[24;80H\u001b[m\u001b[1;72H2:5\u001b[3;15H5\u001b[7m2\u001b[m:\u001b[7m5\u001b[12;22H71\u001b[24;80H\u001b[m\u001b[1;72H4:3\u001b[3;16H\u001b[7m4\u001b[m:\u001b[7m3\u001b[12;22H64\u001b[24;80H\u001b[m\u001b[1;72H6:19\u001b[3;16H\u001b[7m6\u001b[m:\u001b[7m19\u001b[12;22H71\u001b[24;80H\u001b[m\u001b[1;72H7:5\u001b[3;16H\u001b[7m7\u001b[m:\u001b[7m5\u001b[m9\u001b[12;22H\u001b[7m66\u001b[24;80H\u001b[m\u001b[1;72H9:3\u001b[3;16H\u001b[7m9\u001b[m:\u001b[7m3\u001b[12;22H\u001b[m6\u001b[7m1\u001b[24;80H\u001b[m\u001b[1;69H8:01:1\u001b[3;13H\u001b[7m8\u001b[m:\u001b[7m01\u001b[m:\u001b[7m1\u001b[12;22H59\u001b[24;80H\u001b[m\u001b[1;72H2:5\u001b[3;13H8:0\u001b[7m2\u001b[m:\u001b[7m5\u001b[12;22H72\u001b[24;80H\u001b[m\u001b[1;72H4:3\u001b[3;16H\u001b[7m4\u001b[m:\u001b[7m3\u001b[12;22H\u001b[m72\u001b[24;80H\u001b[1;72H6:1\u001b[3;16H\u001b[7m6\u001b[m:\u001b[7m1\u001b[24;80H\u001b[m\u001b[1;72H7:5\u001b[3;16H\u001b[7m8\u001b[m:\u001b[7m00\u001b[12;23H1\u001b[24;80H\u001b[m\u001b[1;72H9:40\u001b[3;16H\u001b[7m9\u001b[m:\u001b[7m4\u001b[m0\u001b[12;23H\u001b[7m2\u001b[24;80H\u001b[m\u001b[1;71H11:2\u001b[3;15H\u001b[7m11\u001b[m:\u001b[7m2\u001b[12;23H\u001b[m2\u001b[24;80H\u001b[1;72H3:0\u001b[3;15H1\u001b[7m3\u001b[m:\u001b[7m0\u001b[12;22H59\u001b[24;80H\u001b[m\u001b[1;72H4:4\u001b[3;16H\u001b[7m4\u001b[m:\u001b[7m4\u001b[12;22H6\u001b[m9\u001b[24;80H\u001b[1;72H6:2\u001b[3;16H\u001b[7m6\u001b[m:\u001b[7m2\u001b[12;22H71\u001b[24;80H\u001b[m\u001b[1;72H8:0\u001b[3;16H\u001b[7m8\u001b[m:\u001b[7m0\u001b[12;22H67\u001b[24;80H\u001b[m\u001b[1;72H9:41\u001b[3;16H\u001b[7m9\u001b[m:\u001b[7m41\u001b[12;22H71\u001b[24;80H\u001b[m\u001b[1;71H21:2\u001b[3;15H\u001b[7m21\u001b[m:\u001b[7m2\u001b[m1\u001b[12;22H\u001b[7m66\u001b[24;80H\u001b[m\u001b[1;72H3:0\u001b[3;15H2\u001b[7m3\u001b[m:\u001b[7m0\u001b[12;22H71\u001b[24;80H\u001b[m\u001b[1;72H4:4\u001b[3;16H\u001b[7m4\u001b[m:\u001b[7m4\u001b[12;22H\u001b[m7\u001b[7m2\u001b[24;80H\u001b[m\u001b[1;72H6:2\u001b[3;16H\u001b[7m6\u001b[m:\u001b[7m2\u001b[12;23H1\u001b[24;80H\u001b[m\u001b[1;72H8:0\u001b[3;16H\u001b[7m8\u001b[m:\u001b[7m0\u001b[12;23H2\u001b[24;80H\u001b[m\u001b[1;72H9:4\u001b[3;16H\u001b[7m9\u001b[m:\u001b[7m4\u001b[12;23H1\u001b[24;80H\u001b[m\u001b[1;71H31:2\u001b[3;15H\u001b[7m31\u001b[m:\u001b[7m22\u001b[12;23H\u001b[m1\u001b[24;80H\u001b[1;72H3:02\u001b[3;15H3\u001b[7m3\u001b[m:\u001b[7m0\u001b[m2\u001b[24;80H\u001b[1;72H4:4\u001b[3;16H\u001b[7m4\u001b[m:\u001b[7m4\u001b[12;22H59\u001b[24;80H\u001b[m\u001b[1;72H6:2\u001b[3;16H\u001b[7m6\u001b[m:\u001b[7m2\u001b[12;22H71\u001b[24;80H\u001b[m\u001b[1;72H8:0\u001b[3;16H\u001b[7m8\u001b[m:\u001b[7m0\u001b[12;22H\u001b[m71\u001b[24;80H\u001b[1;72H9:4\u001b[3;16H\u001b[7m9\u001b[m:\u001b[7m4\u001b[12;22H59\u001b[24;80H\u001b[m\u001b[1;71H41:2\u001b[3;15H\u001b[7m41\u001b[m:\u001b[7m2\u001b[12;22H62\u001b[24;80H\u001b[m\u001b[1;72H3:0\u001b[3;15H4\u001b[7m3\u001b[m:\u001b[7m03\u001b[12;22H71\u001b[24;80H\u001b[m\u001b[1;72H4:43\u001b[3;16H\u001b[7m4\u001b[m:\u001b[7m4\u001b[m3\u001b[12;22H\u001b[7m59\u001b[24;80H\u001b[m\u001b[1;72H6:2\u001b[3;16H\u001b[7m6\u001b[m:\u001b[7m2\u001b[12;22H70\u001b[24;80H\u001b[m\u001b[1;72H8:0\u001b[3;16H\u001b[7m8\u001b[m:\u001b[7m0\u001b[12;22H\u001b[m7\u001b[7m2\u001b[24;80H\u001b[m\u001b[1;72H9:4\u001b[3;16H\u001b[7m9\u001b[m:\u001b[7m4\u001b[12;22H65\u001b[24;80H\u001b[m\u001b[1;71H51:2\u001b[3;15H\u001b[7m51\u001b[m:\u001b[7m2\u001b[12;22H72\u001b[24;80H\u001b[m\u001b[1;72H3:0\u001b[3;15H5\u001b[7m3\u001b[m:\u001b[7m0\u001b[12;22H60\u001b[24;80H\u001b[m\u001b[1;72H4:4\u001b[3;16H\u001b[7m4\u001b[m:\u001b[7m4\u001b[12;22H\u001b[m6\u001b[7m9\u001b[24;80H\u001b[m\u001b[1;72H6:24\u001b[3;16H\u001b[7m6\u001b[m:\u001b[7m24\u001b[12;23H5\u001b[24;80H\u001b[m\u001b[1;72H8:0\u001b[3;16H\u001b[7m8\u001b[m:\u001b[7m0\u001b[m4\u001b[12;22H\u001b[7m59\u001b[24;80H\u001b[m\u001b[1;72H9:4\u001b[3;16H\u001b[7m9\u001b[m:\u001b[7m4\u001b[12;22H71\u001b[24;80H\u001b[m\u001b[1;69H9:01:2\u001b[3;13H\u001b[7m9\u001b[m:\u001b[7m01\u001b[m:\u001b[7m2\u001b[12;22H\u001b[m71\u001b[24;80H\u001b[1;72H3:0\u001b[3;13H9:0\u001b[7m3\u001b[m:\u001b[7m0\u001b[12;23H2\u001b[24;80H\u001b[m\u001b[1;72H4:4\u001b[3;16H\u001b[7m4\u001b[m:\u001b[7m4\u001b[12;23H1\u001b[24;80H\u001b[m\u001b[1;72H6:2\u001b[3;16H\u001b[7m6\u001b[m:\u001b[7m2\u001b[12;23H0\u001b[24;80H\u001b[m\u001b[1;72H8:05\u001b[3;16H\u001b[7m8\u001b[m:\u001b[7m05\u001b[12;22H61\u001b[24;80H\u001b[m\u001b[1;72H9:4\u001b[3;16H\u001b[7m9\u001b[m:\u001b[7m4\u001b[m5\u001b[12;22H6\u001b[7m4\u001b[24;80H\u001b[m\u001b[1;71H11:2\u001b[3;15H\u001b[7m11\u001b[m:\u001b[7m2\u001b[12;22H71\u001b[24;80H\u001b[m\u001b[1;72H3:0\u001b[3;15H1\u001b[7m3\u001b[m:\u001b[7m0\u001b[12;22H60\u001b[24;80H\u001b[m\u001b[1;72H4:4\u001b[3;16H\u001b[7m4\u001b[m:\u001b[7m4\u001b[12;22H72\u001b[24;80H\u001b[m\u001b[1;72H6:2\u001b[3;16H\u001b[7m6\u001b[m:\u001b[7m2\u001b[12;22H60\u001b[24;80H\u001b[m\u001b[1;72H8:0\u001b[3;16H\u001b[7m8\u001b[m:\u001b[7m0\u001b[12;22H\u001b[m60\u001b[24;80H\u001b[1;72H9:4\u001b[3;16H\u001b[7m9\u001b[m:\u001b[7m4\u001b[12;23H3\u001b[24;80H\u001b[m\u001b[1;71H21:26\u001b[3;15H\u001b[7m21\u001b[m:\u001b[7m26\u001b[12;22H71\u001b[24;80H\u001b[m\u001b[1;72H3:0\u001b[3;15H2\u001b[7m3\u001b[m:\u001b[7m0\u001b[m6\u001b[12;22H7\u001b[7m2\u001b[24;80H\u001b[m\u001b[1;72H4:4\u001b[3;16H\u001b[7m4\u001b[m:\u001b[7m4\u001b[12;22H63\u001b[24;80H\u001b[m\u001b[1;72H6:2\u001b[3;16H\u001b[7m6\u001b[m:\u001b[7m2\u001b[12;22H72\u001b[24;80H\u001b[m\u001b[1;72H8:0\u001b[3;16H\u001b[7m8\u001b[m:\u001b[7m0\u001b[12;22H\u001b[m72\u001b[24;80H\u001b[1;72H9:4\u001b[3;16H\u001b[7m9\u001b[m:\u001b[7m4\u001b[24;80H\u001b[m\u001b[1;71H31:2\u001b[3;15H\u001b[7m31\u001b[m:\u001b[7m2\u001b[12;23H1\u001b[24;80H\u001b[m"
          ]
        }
      ]
    }
  ]
}